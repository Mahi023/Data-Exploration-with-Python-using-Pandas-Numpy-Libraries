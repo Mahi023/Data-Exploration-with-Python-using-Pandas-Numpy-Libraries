{
 "cells": [
  {
   "cell_type": "markdown",
   "id": "1515d93b-77a8-4744-ad34-eba38df5d239",
   "metadata": {},
   "source": [
    "## Project Information"
   ]
  },
  {
   "cell_type": "markdown",
   "id": "93640657-caf0-4e53-b9b0-abea3ea5e5ad",
   "metadata": {},
   "source": [
    "Data Analysis and Sampling on Imports-Exports Dataset | Mahi and Jagriti | 055023 and 055016 | Group Number - 29"
   ]
  },
  {
   "cell_type": "markdown",
   "id": "460f8072-2248-4c89-8eef-45848814e149",
   "metadata": {},
   "source": [
    "## Description of Data"
   ]
  },
  {
   "cell_type": "markdown",
   "id": "51670fca-93de-42af-a030-280642732b1b",
   "metadata": {},
   "source": [
    "This dataset provides detailed information on international trade transactions, capturing both import and export activities. It includes comprehensive data on various aspects of trade, making it a valuable resource for business analysis, economic research, and financial modelling."
   ]
  },
  {
   "cell_type": "markdown",
   "id": "54dcc057-b44b-4f2e-9ae0-bca8c75c9b91",
   "metadata": {},
   "source": [
    "Description of Data:\n",
    "This dataset contains import and export transaction records.\n",
    "\n",
    "Data Source & Size:\n",
    "Number of Observations: 15,000\n",
    "Number of Variables: 16\n",
    "\n",
    "Data Type:\n",
    "Cross-sectional\n",
    "\n",
    "Data Variable Types:\n",
    "11 categorical (text) variables\n",
    "3 integer variables\n",
    "2 decimal variables\n",
    "\n",
    "Variable Classification:\n",
    "Index: Transaction_ID\n",
    "Categorical (Nominal): Country, Product, Import_Export, Category, Port, Shipping_Method, Supplier, Customer, Payment_Terms\n",
    "Non-Categorical: Quantity, Value, Date, Customs_Code, Weight, Invoice_Number"
   ]
  },
  {
   "cell_type": "markdown",
   "id": "a3c7cbcd-bafe-460a-aac7-8ae80418667e",
   "metadata": {},
   "source": [
    "## Project Objectives"
   ]
  },
  {
   "cell_type": "markdown",
   "id": "05feeaeb-9474-41d8-806c-741d5b576c7e",
   "metadata": {},
   "source": [
    "This project aims at conducting an in-depth exploratory analysis on the detailed Imports and Exports Dataset from Kaggle (https://www.kaggle.com/datasets/chakilamvishwas/imports-exports-15000) that contains comprehensive data about transactions. Therefore, such data shall lead to something highly valuable for making informed decisions. The project will identify key markets and pinpoint countries that hold significant trade opportunities, especially high-demand product categories like clothing, machinery, and electronics.\n",
    "\n",
    "Market segmentation, involving analysis of transaction data to classify countries based on import-export activity, will help to highlight high-potential trade regions. The same trend analysis of volume and value over time will also help to reveal emerging markets and stable trading partners. The project measures the profitability of various product categories across different countries, ranking markets according to their yield potential.\n",
    "\n",
    "These insights would be critical in supporting strategic decisions on the allocation of resources, marketing, and logistics, while facilitating risk analysis by understanding dynamics existing in international trade and economic conditions prevalent in key markets. This, in turn, enables businesses to strategically adapt their operations to maximize presence and performance in the most remunerative regions."
   ]
  },
  {
   "cell_type": "markdown",
   "id": "e2f662ca-21fd-43f0-8fcc-70afa63c3dec",
   "metadata": {},
   "source": [
    "## Analysis of Data"
   ]
  },
  {
   "cell_type": "markdown",
   "id": "c1f7ea4b-ed6b-4f7b-9a47-3003415805d9",
   "metadata": {},
   "source": [
    "The dataset comprises 2,001 transaction records detailing Transaction ID, Country, Product, Import/Export status, Quantity, Value, and more. Key analyses reveal significant export sectors such as Clothing, Electronics, and Machinery, with prominent markets like Burkina Faso and Argentina. Variations in shipping methods and payment terms, particularly \"Prepaid\" and \"Net 60,\" reflect diverse financial strategies.\n",
    "\n",
    "The average Quantity is approximately 4,954 units (standard deviation: 2,894), while the average Value is around $5,003, with similar variability. Coefficients of variation indicate substantial transaction variability: 58.41% for Quantity, 59.18% for Weight, and 57.57% for Value.\n",
    "\n",
    "Statistical tests, including the Shapiro-Wilk test, show non-normal distributions for Quantity, Weight, and Value (p-values < 0.05), leading to the rejection of normality assumptions. Correlation analysis reveals weak relationships among variables, suggesting independent variations. A Chi-squared test between 'Country' and 'Import/Export' yielded a statistic of 248.08 and a p-value of 0.38, indicating no significant association, suggesting that trade patterns are influenced more by broader market conditions than by specific countries.\n",
    "\n",
    "Overall, the analysis highlights the dataset's complexity and variability, emphasizing the need for tailored strategies in inventory management and financial forecasting while considering broader market trends.ategories at a glance.\r\n",
    "\r\n"
   ]
  },
  {
   "cell_type": "markdown",
   "id": "3b3faad2-96b5-4538-8300-ccbc53bb7be7",
   "metadata": {},
   "source": [
    "1. Descriptive Analysis\n",
    "\n",
    "Non-Categorical Data:\n",
    "\n",
    "Measures of Central Tendency:\n",
    "Calculating the Minimum, Maximum, Mean, Median, and Mode for key variables such as Quantity and Value to identify average transaction sizes and values, guiding strategic decisions.\n",
    "\n",
    "Measures of Dispersion:\n",
    "Analyzing the Range and Standard Deviation of transaction values to understand the variability in trade activities.\n",
    "\n",
    "Composite Measure:\n",
    "The Coefficient of Variation will highlight the relative variability in transaction sizes and values across different markets.\n",
    "\n",
    "Categorical Data:\n",
    "Frequency counts for variables like Country and Product will help identify major markets and popular product categories, assisting in prioritization for trade opportunities.\n",
    "\n",
    "2. Inferential Analysis\n",
    "\n",
    "Non-Categorical Data:\n",
    "\n",
    "Test of Mean:\n",
    "Conducting a t-test to compare average transaction values across different groups, identifying any significant differences.\n",
    "Categorical Data:\n",
    "\n",
    "Chi-square Test:\n",
    "Analyzing the relationship between 'Country' and 'Import/Export' status to determine if there is a significant association between these variables.\n",
    "\n",
    "3. Causal Analysis\n",
    "\n",
    "Regression Analysis:\n",
    "Implementing regression techniques to explore the relationship between transaction values and various factors such as country and product type. This analysis will aid in forecasting future trends and optimizing resource allocation in high-demand markets.\n",
    "\n",
    "4. Visualization\n",
    "\n",
    "Non-Categorical Data:\n",
    "Utilizing scatter plots and line graphs to visualize relationships and trends in transaction metrics, facilitating better communication of findings.\n",
    "\n",
    "Categorical Data:\n",
    "Employing bar charts and pie charts to effectively present categorical data, making it easier to identify key markets and product categories at a glance."
   ]
  },
  {
   "cell_type": "markdown",
   "id": "c2c7161d-8d3f-448a-bd13-938974b7e8cb",
   "metadata": {},
   "source": [
    "## Observations"
   ]
  },
  {
   "cell_type": "markdown",
   "id": "97bffca1-b217-42f4-9a5a-10483ceec16d",
   "metadata": {},
   "source": [
    "A notable finding from the analysis is that Burkina Faso and Argentina stand out as important export markets, especially in sectors such as clothing and machinery. This underscores their significance in the broader trading environment, suggesting that businesses could uncover profitable opportunities by concentrating on these countries. The high transaction volumes and values linked to these markets indicate a strong demand for particular products, which are essential for strategic planning and resource allocation in international trade initiatives. Gaining insights into these dynamics can enable companies to refine their market entry strategies and strengthen their competitive edge in these regions."
   ]
  },
  {
   "cell_type": "markdown",
   "id": "330dce9f-0bb4-447c-9365-9f1f17ab9c7b",
   "metadata": {},
   "source": [
    "## Managerial Insights"
   ]
  },
  {
   "cell_type": "markdown",
   "id": "ab15478f-809a-45a9-9783-c6d891eef523",
   "metadata": {},
   "source": [
    "The analysis delivers crucial managerial insights by emphasizing the need to concentrate on high-potential markets like Burkina Faso and Argentina. Businesses should direct resources toward marketing and distribution strategies that are customized for these areas, capitalizing on their strengths in clothing and machinery exports. Additionally, gaining a thorough understanding of the diverse payment terms and shipping methods used in these markets can enhance operational efficiency and improve customer satisfaction. By keeping an eye on trends and adapting to local market conditions, companies can position themselves to take advantage of new opportunities, ensuring ongoing growth in international trade."
   ]
  },
  {
   "cell_type": "code",
   "execution_count": 1,
   "id": "4cd15562-0163-49da-a6b3-e9d85986a1d5",
   "metadata": {},
   "outputs": [],
   "source": [
    "import os\n",
    "import pandas as pd"
   ]
  },
  {
   "cell_type": "code",
   "execution_count": 2,
   "id": "0fcfc720-312e-4bf2-9566-e3b3b637d4c3",
   "metadata": {},
   "outputs": [],
   "source": [
    "#. Load the Test Data.\n",
    "my_df=pd.read_csv(\"C:\\\\Users\\\\Hp\\\\Downloads\\\\Imports_Exports_Dataset.csv\")"
   ]
  },
  {
   "cell_type": "code",
   "execution_count": 5,
   "id": "c9cbb64e-517d-4cbd-8daf-4cb096788794",
   "metadata": {},
   "outputs": [
    {
     "data": {
      "text/plain": [
       "(15000, 16)"
      ]
     },
     "execution_count": 5,
     "metadata": {},
     "output_type": "execute_result"
    }
   ],
   "source": [
    "#  Display the Dimensions of Test Data.\n",
    "my_df.shape"
   ]
  },
  {
   "cell_type": "code",
   "execution_count": 7,
   "id": "500a1023-0620-406d-bc2c-1d28c8b7e1a2",
   "metadata": {},
   "outputs": [],
   "source": [
    "#  Create a Unique Sample of 2001 Observations using Student Roll Number as Random State.\n",
    "my_sample= my_df.sample(n=2001, random_state=55023)"
   ]
  },
  {
   "cell_type": "code",
   "execution_count": 9,
   "id": "599a1fd4-8b9e-4c0a-8c2b-b6b6283da1fa",
   "metadata": {},
   "outputs": [
    {
     "data": {
      "text/plain": [
       "(2001, 16)"
      ]
     },
     "execution_count": 9,
     "metadata": {},
     "output_type": "execute_result"
    }
   ],
   "source": [
    "#  Display the Dimensions of Sample Data.\n",
    "my_sample.shape"
   ]
  },
  {
   "cell_type": "code",
   "execution_count": 11,
   "id": "18dd774a-9b6f-4856-b1c6-fef6c1795b4c",
   "metadata": {
    "scrolled": true
   },
   "outputs": [
    {
     "data": {
      "text/plain": [
       "<bound method DataFrame.info of                              Transaction_ID         Country  Product  \\\n",
       "7575   99298f6d-4630-493f-a215-dba810d36228    Burkina Faso  hundred   \n",
       "7898   051dcf24-03f2-4d3e-b8e6-d3bddd298a57     Isle of Man    style   \n",
       "11534  5f0d9b14-56b3-4949-b0df-10cdfe78bd54       Argentina  subject   \n",
       "10117  db46dd88-18d9-429f-825b-7c85c476714f         Armenia    write   \n",
       "8867   e1c87ff9-ee9a-40c7-9b9a-3bbda7542293        Barbados   region   \n",
       "...                                     ...             ...      ...   \n",
       "2337   3bdc85dc-6c5f-4136-9b4c-3736c314f367        Dominica      not   \n",
       "10733  1cfbbc55-772b-4e9f-b132-3f4a4893210a         Comoros      hit   \n",
       "9781   357a144d-b3f2-4b17-b0c7-5b3359861e5e        Mongolia     fire   \n",
       "10969  c88d9700-9b3b-47cd-8d54-fcfaa7986432     Philippines     upon   \n",
       "7592   3708a8bc-6a57-42b7-ad9e-336642626e48  Norfolk Island   police   \n",
       "\n",
       "      Import_Export  Quantity    Value        Date     Category  \\\n",
       "7575         Export      1052  3084.02  02-08-2024     Clothing   \n",
       "7898         Import      6333  8201.51  27-08-2022  Electronics   \n",
       "11534        Export      7125  6643.86  18-06-2022    Machinery   \n",
       "10117        Export      9757   852.29  20-08-2022     Clothing   \n",
       "8867         Export      1156  1688.27  11-01-2024         Toys   \n",
       "...             ...       ...      ...         ...          ...   \n",
       "2337         Export      7580  2855.32  12-02-2021    Machinery   \n",
       "10733        Export       194  9484.10  16-08-2020    Furniture   \n",
       "9781         Export      4398  3951.38  15-04-2020     Clothing   \n",
       "10969        Export      8497  6503.68  31-10-2020    Furniture   \n",
       "7592         Import      4829  2831.17  14-03-2020     Clothing   \n",
       "\n",
       "                     Port  Customs_Code   Weight Shipping_Method  \\\n",
       "7575           Greeneland        203424  2619.91            Land   \n",
       "7898        South Amyport        238655  1504.02             Sea   \n",
       "11534          East April        727110   742.36             Air   \n",
       "10117         Gibsonmouth        526807   269.98            Land   \n",
       "8867         West Michael        760320  1165.13             Air   \n",
       "...                   ...           ...      ...             ...   \n",
       "2337      North Catherine        372601   529.55            Land   \n",
       "10733            Freyberg        277493  4992.64             Air   \n",
       "9781        Patriciashire        340273  3550.11             Sea   \n",
       "10969  South Samanthaport        482887  2138.66             Air   \n",
       "7592      East Rachelstad        168730  3340.77             Sea   \n",
       "\n",
       "                     Supplier          Customer  Invoice_Number  \\\n",
       "7575           Reynolds-Ortiz     Thomas Greene        67819102   \n",
       "7898              Perez-Burns       Leah Gamble        86423608   \n",
       "11534         Lopez-Hernandez     Robert Rogers        61577279   \n",
       "10117           Little-Oliver        Lacey Ford        49929404   \n",
       "8867   Turner, Choi and Hodge    Michele Wright        95880720   \n",
       "...                       ...               ...             ...   \n",
       "2337              Singh Group  Lauren Alexander        28556967   \n",
       "10733           Hull and Sons        Jaime Reed        52824694   \n",
       "9781                Black Ltd        Justin Lam        57051033   \n",
       "10969          Escobar-Thomas        Misty Diaz        44934085   \n",
       "7592         Walker-Carpenter       Gail Phelps        45091257   \n",
       "\n",
       "          Payment_Terms  \n",
       "7575            Prepaid  \n",
       "7898            Prepaid  \n",
       "11534            Net 60  \n",
       "10117            Net 60  \n",
       "8867            Prepaid  \n",
       "...                 ...  \n",
       "2337            Prepaid  \n",
       "10733  Cash on Delivery  \n",
       "9781            Prepaid  \n",
       "10969            Net 60  \n",
       "7592   Cash on Delivery  \n",
       "\n",
       "[2001 rows x 16 columns]>"
      ]
     },
     "execution_count": 11,
     "metadata": {},
     "output_type": "execute_result"
    }
   ],
   "source": [
    "# Display Sample Data Information.\n",
    "my_sample.info"
   ]
  },
  {
   "cell_type": "code",
   "execution_count": 13,
   "id": "81eb9903-4a9c-445b-9be9-1f4544299404",
   "metadata": {},
   "outputs": [
    {
     "data": {
      "text/html": [
       "<div>\n",
       "<style scoped>\n",
       "    .dataframe tbody tr th:only-of-type {\n",
       "        vertical-align: middle;\n",
       "    }\n",
       "\n",
       "    .dataframe tbody tr th {\n",
       "        vertical-align: top;\n",
       "    }\n",
       "\n",
       "    .dataframe thead th {\n",
       "        text-align: right;\n",
       "    }\n",
       "</style>\n",
       "<table border=\"1\" class=\"dataframe\">\n",
       "  <thead>\n",
       "    <tr style=\"text-align: right;\">\n",
       "      <th></th>\n",
       "      <th>Transaction_ID</th>\n",
       "      <th>Country</th>\n",
       "      <th>Product</th>\n",
       "      <th>Import_Export</th>\n",
       "      <th>Quantity</th>\n",
       "      <th>Value</th>\n",
       "      <th>Date</th>\n",
       "      <th>Category</th>\n",
       "      <th>Port</th>\n",
       "      <th>Customs_Code</th>\n",
       "      <th>Weight</th>\n",
       "      <th>Shipping_Method</th>\n",
       "      <th>Supplier</th>\n",
       "      <th>Customer</th>\n",
       "      <th>Invoice_Number</th>\n",
       "      <th>Payment_Terms</th>\n",
       "    </tr>\n",
       "  </thead>\n",
       "  <tbody>\n",
       "    <tr>\n",
       "      <th>7575</th>\n",
       "      <td>99298f6d-4630-493f-a215-dba810d36228</td>\n",
       "      <td>Burkina Faso</td>\n",
       "      <td>hundred</td>\n",
       "      <td>Export</td>\n",
       "      <td>1052</td>\n",
       "      <td>3084.02</td>\n",
       "      <td>02-08-2024</td>\n",
       "      <td>Clothing</td>\n",
       "      <td>Greeneland</td>\n",
       "      <td>203424</td>\n",
       "      <td>2619.91</td>\n",
       "      <td>Land</td>\n",
       "      <td>Reynolds-Ortiz</td>\n",
       "      <td>Thomas Greene</td>\n",
       "      <td>67819102</td>\n",
       "      <td>Prepaid</td>\n",
       "    </tr>\n",
       "    <tr>\n",
       "      <th>7898</th>\n",
       "      <td>051dcf24-03f2-4d3e-b8e6-d3bddd298a57</td>\n",
       "      <td>Isle of Man</td>\n",
       "      <td>style</td>\n",
       "      <td>Import</td>\n",
       "      <td>6333</td>\n",
       "      <td>8201.51</td>\n",
       "      <td>27-08-2022</td>\n",
       "      <td>Electronics</td>\n",
       "      <td>South Amyport</td>\n",
       "      <td>238655</td>\n",
       "      <td>1504.02</td>\n",
       "      <td>Sea</td>\n",
       "      <td>Perez-Burns</td>\n",
       "      <td>Leah Gamble</td>\n",
       "      <td>86423608</td>\n",
       "      <td>Prepaid</td>\n",
       "    </tr>\n",
       "    <tr>\n",
       "      <th>11534</th>\n",
       "      <td>5f0d9b14-56b3-4949-b0df-10cdfe78bd54</td>\n",
       "      <td>Argentina</td>\n",
       "      <td>subject</td>\n",
       "      <td>Export</td>\n",
       "      <td>7125</td>\n",
       "      <td>6643.86</td>\n",
       "      <td>18-06-2022</td>\n",
       "      <td>Machinery</td>\n",
       "      <td>East April</td>\n",
       "      <td>727110</td>\n",
       "      <td>742.36</td>\n",
       "      <td>Air</td>\n",
       "      <td>Lopez-Hernandez</td>\n",
       "      <td>Robert Rogers</td>\n",
       "      <td>61577279</td>\n",
       "      <td>Net 60</td>\n",
       "    </tr>\n",
       "    <tr>\n",
       "      <th>10117</th>\n",
       "      <td>db46dd88-18d9-429f-825b-7c85c476714f</td>\n",
       "      <td>Armenia</td>\n",
       "      <td>write</td>\n",
       "      <td>Export</td>\n",
       "      <td>9757</td>\n",
       "      <td>852.29</td>\n",
       "      <td>20-08-2022</td>\n",
       "      <td>Clothing</td>\n",
       "      <td>Gibsonmouth</td>\n",
       "      <td>526807</td>\n",
       "      <td>269.98</td>\n",
       "      <td>Land</td>\n",
       "      <td>Little-Oliver</td>\n",
       "      <td>Lacey Ford</td>\n",
       "      <td>49929404</td>\n",
       "      <td>Net 60</td>\n",
       "    </tr>\n",
       "    <tr>\n",
       "      <th>8867</th>\n",
       "      <td>e1c87ff9-ee9a-40c7-9b9a-3bbda7542293</td>\n",
       "      <td>Barbados</td>\n",
       "      <td>region</td>\n",
       "      <td>Export</td>\n",
       "      <td>1156</td>\n",
       "      <td>1688.27</td>\n",
       "      <td>11-01-2024</td>\n",
       "      <td>Toys</td>\n",
       "      <td>West Michael</td>\n",
       "      <td>760320</td>\n",
       "      <td>1165.13</td>\n",
       "      <td>Air</td>\n",
       "      <td>Turner, Choi and Hodge</td>\n",
       "      <td>Michele Wright</td>\n",
       "      <td>95880720</td>\n",
       "      <td>Prepaid</td>\n",
       "    </tr>\n",
       "  </tbody>\n",
       "</table>\n",
       "</div>"
      ],
      "text/plain": [
       "                             Transaction_ID       Country  Product  \\\n",
       "7575   99298f6d-4630-493f-a215-dba810d36228  Burkina Faso  hundred   \n",
       "7898   051dcf24-03f2-4d3e-b8e6-d3bddd298a57   Isle of Man    style   \n",
       "11534  5f0d9b14-56b3-4949-b0df-10cdfe78bd54     Argentina  subject   \n",
       "10117  db46dd88-18d9-429f-825b-7c85c476714f       Armenia    write   \n",
       "8867   e1c87ff9-ee9a-40c7-9b9a-3bbda7542293      Barbados   region   \n",
       "\n",
       "      Import_Export  Quantity    Value        Date     Category  \\\n",
       "7575         Export      1052  3084.02  02-08-2024     Clothing   \n",
       "7898         Import      6333  8201.51  27-08-2022  Electronics   \n",
       "11534        Export      7125  6643.86  18-06-2022    Machinery   \n",
       "10117        Export      9757   852.29  20-08-2022     Clothing   \n",
       "8867         Export      1156  1688.27  11-01-2024         Toys   \n",
       "\n",
       "                Port  Customs_Code   Weight Shipping_Method  \\\n",
       "7575      Greeneland        203424  2619.91            Land   \n",
       "7898   South Amyport        238655  1504.02             Sea   \n",
       "11534     East April        727110   742.36             Air   \n",
       "10117    Gibsonmouth        526807   269.98            Land   \n",
       "8867    West Michael        760320  1165.13             Air   \n",
       "\n",
       "                     Supplier        Customer  Invoice_Number Payment_Terms  \n",
       "7575           Reynolds-Ortiz   Thomas Greene        67819102       Prepaid  \n",
       "7898              Perez-Burns     Leah Gamble        86423608       Prepaid  \n",
       "11534         Lopez-Hernandez   Robert Rogers        61577279        Net 60  \n",
       "10117           Little-Oliver      Lacey Ford        49929404        Net 60  \n",
       "8867   Turner, Choi and Hodge  Michele Wright        95880720       Prepaid  "
      ]
     },
     "execution_count": 13,
     "metadata": {},
     "output_type": "execute_result"
    }
   ],
   "source": [
    "# Display the First 05 Records of the Sample Data.\n",
    "my_sample.head(5)"
   ]
  },
  {
   "cell_type": "code",
   "execution_count": 15,
   "id": "72a85c84-4a6f-4667-a464-c9b385c5a230",
   "metadata": {},
   "outputs": [
    {
     "name": "stdout",
     "output_type": "stream",
     "text": [
      "                             Transaction_ID           Country Product  \\\n",
      "14995  48df15a8-0823-4964-8c16-eddf2756f382  Marshall Islands     not   \n",
      "14996  31106617-94a6-4646-a001-5e7bd45abc26           Bermuda     air   \n",
      "14997  ee485839-fbde-4ced-af18-d98f5e863081          Tanzania    show   \n",
      "14998  5acd54aa-ec8c-4055-be8b-a447861a471c            Tuvalu      TV   \n",
      "14999  5cc039d0-a052-41fd-bfbb-c9f60c4565ac   North Macedonia    year   \n",
      "\n",
      "      Import_Export  Quantity    Value        Date   Category  \\\n",
      "14995        Export      2860  2055.19  09-07-2024  Furniture   \n",
      "14996        Export      2443  6407.06  18-06-2024  Furniture   \n",
      "14997        Export      1702  9918.29  30-04-2020       Toys   \n",
      "14998        Export      8108  9288.57  29-04-2021   Clothing   \n",
      "14999        Import      5635   561.33  25-12-2019   Clothing   \n",
      "\n",
      "                     Port  Customs_Code   Weight Shipping_Method  \\\n",
      "14995     South Karenfort        393463  4120.35            Land   \n",
      "14996         Jeffreyside        484143  1832.71             Air   \n",
      "14997  North Meganborough        354935  4203.52            Land   \n",
      "14998           Villafurt        234296  1597.72            Land   \n",
      "14999           West Gary        766709  2913.82             Air   \n",
      "\n",
      "                         Supplier        Customer  Invoice_Number  \\\n",
      "14995                 Smith-Lewis   Darlene Davis        29605073   \n",
      "14996                 Jones Group      John Ramos        39044695   \n",
      "14997               Barnes-Romero  Rebecca Phelps        78492040   \n",
      "14998  Smith, Allison and Bennett     Scott Yates        20799602   \n",
      "14999               Fleming-Miles    Steven Young        79237293   \n",
      "\n",
      "          Payment_Terms  \n",
      "14995            Net 60  \n",
      "14996  Cash on Delivery  \n",
      "14997            Net 30  \n",
      "14998  Cash on Delivery  \n",
      "14999            Net 30  \n"
     ]
    }
   ],
   "source": [
    "#Display the bottom 5 rows from the dataset using the tail() function.\n",
    "\n",
    "bottom_rows = my_df.tail(5)\n",
    "print(bottom_rows)"
   ]
  },
  {
   "cell_type": "code",
   "execution_count": 17,
   "id": "462bd9c3-eb22-4aac-b722-178bbb6df024",
   "metadata": {},
   "outputs": [
    {
     "name": "stdout",
     "output_type": "stream",
     "text": [
      "                             Transaction_ID           Country Product  \\\n",
      "14995  48df15a8-0823-4964-8c16-eddf2756f382  Marshall Islands     not   \n",
      "14996  31106617-94a6-4646-a001-5e7bd45abc26           Bermuda     air   \n",
      "14997  ee485839-fbde-4ced-af18-d98f5e863081          Tanzania    show   \n",
      "14998  5acd54aa-ec8c-4055-be8b-a447861a471c            Tuvalu      TV   \n",
      "14999  5cc039d0-a052-41fd-bfbb-c9f60c4565ac   North Macedonia    year   \n",
      "\n",
      "      Import_Export  Quantity    Value        Date   Category  \\\n",
      "14995        Export      2860  2055.19  09-07-2024  Furniture   \n",
      "14996        Export      2443  6407.06  18-06-2024  Furniture   \n",
      "14997        Export      1702  9918.29  30-04-2020       Toys   \n",
      "14998        Export      8108  9288.57  29-04-2021   Clothing   \n",
      "14999        Import      5635   561.33  25-12-2019   Clothing   \n",
      "\n",
      "                     Port  Customs_Code   Weight Shipping_Method  \\\n",
      "14995     South Karenfort        393463  4120.35            Land   \n",
      "14996         Jeffreyside        484143  1832.71             Air   \n",
      "14997  North Meganborough        354935  4203.52            Land   \n",
      "14998           Villafurt        234296  1597.72            Land   \n",
      "14999           West Gary        766709  2913.82             Air   \n",
      "\n",
      "                         Supplier        Customer  Invoice_Number  \\\n",
      "14995                 Smith-Lewis   Darlene Davis        29605073   \n",
      "14996                 Jones Group      John Ramos        39044695   \n",
      "14997               Barnes-Romero  Rebecca Phelps        78492040   \n",
      "14998  Smith, Allison and Bennett     Scott Yates        20799602   \n",
      "14999               Fleming-Miles    Steven Young        79237293   \n",
      "\n",
      "          Payment_Terms  \n",
      "14995            Net 60  \n",
      "14996  Cash on Delivery  \n",
      "14997            Net 30  \n",
      "14998  Cash on Delivery  \n",
      "14999            Net 30  \n"
     ]
    }
   ],
   "source": [
    "# Drop irrelevant columns from the dataset using drop() function.\n",
    "# Assuming 'df' is our DataFrame\n",
    "bottom_rows = my_df.tail(5)\n",
    "print(bottom_rows)"
   ]
  },
  {
   "cell_type": "code",
   "execution_count": 19,
   "id": "5169573c-358e-4f5c-95e1-b6896259354b",
   "metadata": {},
   "outputs": [
    {
     "data": {
      "text/plain": [
       "Index(['Transaction_ID', 'Country', 'Product', 'Import_Export', 'Quantity',\n",
       "       'Value', 'Date', 'Category', 'Port', 'Customs_Code', 'Weight',\n",
       "       'Shipping_Method', 'Supplier', 'Customer', 'Invoice_Number',\n",
       "       'Payment_Terms'],\n",
       "      dtype='object')"
      ]
     },
     "execution_count": 19,
     "metadata": {},
     "output_type": "execute_result"
    }
   ],
   "source": [
    "# List the Names of Variables.\n",
    "my_sample.columns"
   ]
  },
  {
   "cell_type": "code",
   "execution_count": 21,
   "id": "9f8515df-7935-4e5b-baf0-fec16f385250",
   "metadata": {},
   "outputs": [],
   "source": [
    "# Identify & list the following Variables:\n",
    "\n",
    "\n",
    "#Index- Transaction_ID, Customs_Code, Invoice_Number, Product, Supplier, Customer\n",
    "#Categorical- Nominal - Import_Export, Category, Shipping_Method, Payment_Terms, Country\n",
    "#Categorical- Ordinal -\n",
    "#Non-Categorical- Quantity, Value, Date, Port, Weight"
   ]
  },
  {
   "cell_type": "code",
   "execution_count": 23,
   "id": "59e701de-0727-4ca0-a043-3151dba147fa",
   "metadata": {},
   "outputs": [
    {
     "data": {
      "text/html": [
       "<div>\n",
       "<style scoped>\n",
       "    .dataframe tbody tr th:only-of-type {\n",
       "        vertical-align: middle;\n",
       "    }\n",
       "\n",
       "    .dataframe tbody tr th {\n",
       "        vertical-align: top;\n",
       "    }\n",
       "\n",
       "    .dataframe thead th {\n",
       "        text-align: right;\n",
       "    }\n",
       "</style>\n",
       "<table border=\"1\" class=\"dataframe\">\n",
       "  <thead>\n",
       "    <tr style=\"text-align: right;\">\n",
       "      <th></th>\n",
       "      <th>Quantity</th>\n",
       "      <th>Value</th>\n",
       "      <th>Customs_Code</th>\n",
       "      <th>Weight</th>\n",
       "    </tr>\n",
       "  </thead>\n",
       "  <tbody>\n",
       "    <tr>\n",
       "      <th>7575</th>\n",
       "      <td>1052</td>\n",
       "      <td>3084.02</td>\n",
       "      <td>203424</td>\n",
       "      <td>2619.91</td>\n",
       "    </tr>\n",
       "    <tr>\n",
       "      <th>7898</th>\n",
       "      <td>6333</td>\n",
       "      <td>8201.51</td>\n",
       "      <td>238655</td>\n",
       "      <td>1504.02</td>\n",
       "    </tr>\n",
       "    <tr>\n",
       "      <th>11534</th>\n",
       "      <td>7125</td>\n",
       "      <td>6643.86</td>\n",
       "      <td>727110</td>\n",
       "      <td>742.36</td>\n",
       "    </tr>\n",
       "    <tr>\n",
       "      <th>10117</th>\n",
       "      <td>9757</td>\n",
       "      <td>852.29</td>\n",
       "      <td>526807</td>\n",
       "      <td>269.98</td>\n",
       "    </tr>\n",
       "    <tr>\n",
       "      <th>8867</th>\n",
       "      <td>1156</td>\n",
       "      <td>1688.27</td>\n",
       "      <td>760320</td>\n",
       "      <td>1165.13</td>\n",
       "    </tr>\n",
       "    <tr>\n",
       "      <th>...</th>\n",
       "      <td>...</td>\n",
       "      <td>...</td>\n",
       "      <td>...</td>\n",
       "      <td>...</td>\n",
       "    </tr>\n",
       "    <tr>\n",
       "      <th>2337</th>\n",
       "      <td>7580</td>\n",
       "      <td>2855.32</td>\n",
       "      <td>372601</td>\n",
       "      <td>529.55</td>\n",
       "    </tr>\n",
       "    <tr>\n",
       "      <th>10733</th>\n",
       "      <td>194</td>\n",
       "      <td>9484.10</td>\n",
       "      <td>277493</td>\n",
       "      <td>4992.64</td>\n",
       "    </tr>\n",
       "    <tr>\n",
       "      <th>9781</th>\n",
       "      <td>4398</td>\n",
       "      <td>3951.38</td>\n",
       "      <td>340273</td>\n",
       "      <td>3550.11</td>\n",
       "    </tr>\n",
       "    <tr>\n",
       "      <th>10969</th>\n",
       "      <td>8497</td>\n",
       "      <td>6503.68</td>\n",
       "      <td>482887</td>\n",
       "      <td>2138.66</td>\n",
       "    </tr>\n",
       "    <tr>\n",
       "      <th>7592</th>\n",
       "      <td>4829</td>\n",
       "      <td>2831.17</td>\n",
       "      <td>168730</td>\n",
       "      <td>3340.77</td>\n",
       "    </tr>\n",
       "  </tbody>\n",
       "</table>\n",
       "<p>2001 rows × 4 columns</p>\n",
       "</div>"
      ],
      "text/plain": [
       "       Quantity    Value  Customs_Code   Weight\n",
       "7575       1052  3084.02        203424  2619.91\n",
       "7898       6333  8201.51        238655  1504.02\n",
       "11534      7125  6643.86        727110   742.36\n",
       "10117      9757   852.29        526807   269.98\n",
       "8867       1156  1688.27        760320  1165.13\n",
       "...         ...      ...           ...      ...\n",
       "2337       7580  2855.32        372601   529.55\n",
       "10733       194  9484.10        277493  4992.64\n",
       "9781       4398  3951.38        340273  3550.11\n",
       "10969      8497  6503.68        482887  2138.66\n",
       "7592       4829  2831.17        168730  3340.77\n",
       "\n",
       "[2001 rows x 4 columns]"
      ]
     },
     "execution_count": 23,
     "metadata": {},
     "output_type": "execute_result"
    }
   ],
   "source": [
    "# Subset the Non-Categorical Variables.\n",
    "non_cat_df=my_sample[['Quantity', 'Value', 'Customs_Code','Weight']]\n",
    "non_cat_df"
   ]
  },
  {
   "cell_type": "code",
   "execution_count": 25,
   "id": "034ae7ac-651b-4c16-998d-6114b24a88ae",
   "metadata": {},
   "outputs": [
    {
     "data": {
      "text/html": [
       "<div>\n",
       "<style scoped>\n",
       "    .dataframe tbody tr th:only-of-type {\n",
       "        vertical-align: middle;\n",
       "    }\n",
       "\n",
       "    .dataframe tbody tr th {\n",
       "        vertical-align: top;\n",
       "    }\n",
       "\n",
       "    .dataframe thead th {\n",
       "        text-align: right;\n",
       "    }\n",
       "</style>\n",
       "<table border=\"1\" class=\"dataframe\">\n",
       "  <thead>\n",
       "    <tr style=\"text-align: right;\">\n",
       "      <th></th>\n",
       "      <th>Quantity</th>\n",
       "      <th>Value</th>\n",
       "      <th>Customs_Code</th>\n",
       "      <th>Weight</th>\n",
       "    </tr>\n",
       "  </thead>\n",
       "  <tbody>\n",
       "    <tr>\n",
       "      <th>count</th>\n",
       "      <td>2001.000000</td>\n",
       "      <td>2001.000000</td>\n",
       "      <td>2001.000000</td>\n",
       "      <td>2001.000000</td>\n",
       "    </tr>\n",
       "    <tr>\n",
       "      <th>mean</th>\n",
       "      <td>4954.312344</td>\n",
       "      <td>5002.552574</td>\n",
       "      <td>546121.951024</td>\n",
       "      <td>2480.098651</td>\n",
       "    </tr>\n",
       "    <tr>\n",
       "      <th>std</th>\n",
       "      <td>2894.016310</td>\n",
       "      <td>2880.139487</td>\n",
       "      <td>261414.194620</td>\n",
       "      <td>1467.742314</td>\n",
       "    </tr>\n",
       "    <tr>\n",
       "      <th>min</th>\n",
       "      <td>9.000000</td>\n",
       "      <td>102.120000</td>\n",
       "      <td>100229.000000</td>\n",
       "      <td>2.590000</td>\n",
       "    </tr>\n",
       "    <tr>\n",
       "      <th>25%</th>\n",
       "      <td>2469.000000</td>\n",
       "      <td>2429.590000</td>\n",
       "      <td>321561.000000</td>\n",
       "      <td>1214.830000</td>\n",
       "    </tr>\n",
       "    <tr>\n",
       "      <th>50%</th>\n",
       "      <td>4906.000000</td>\n",
       "      <td>5012.820000</td>\n",
       "      <td>543855.000000</td>\n",
       "      <td>2479.630000</td>\n",
       "    </tr>\n",
       "    <tr>\n",
       "      <th>75%</th>\n",
       "      <td>7542.000000</td>\n",
       "      <td>7451.050000</td>\n",
       "      <td>773577.000000</td>\n",
       "      <td>3732.320000</td>\n",
       "    </tr>\n",
       "    <tr>\n",
       "      <th>max</th>\n",
       "      <td>9995.000000</td>\n",
       "      <td>9996.720000</td>\n",
       "      <td>999597.000000</td>\n",
       "      <td>4999.520000</td>\n",
       "    </tr>\n",
       "  </tbody>\n",
       "</table>\n",
       "</div>"
      ],
      "text/plain": [
       "          Quantity        Value   Customs_Code       Weight\n",
       "count  2001.000000  2001.000000    2001.000000  2001.000000\n",
       "mean   4954.312344  5002.552574  546121.951024  2480.098651\n",
       "std    2894.016310  2880.139487  261414.194620  1467.742314\n",
       "min       9.000000   102.120000  100229.000000     2.590000\n",
       "25%    2469.000000  2429.590000  321561.000000  1214.830000\n",
       "50%    4906.000000  5012.820000  543855.000000  2479.630000\n",
       "75%    7542.000000  7451.050000  773577.000000  3732.320000\n",
       "max    9995.000000  9996.720000  999597.000000  4999.520000"
      ]
     },
     "execution_count": 25,
     "metadata": {},
     "output_type": "execute_result"
    }
   ],
   "source": [
    "# Display the Descriptive Statistics of the Non-Categorical Set.\n",
    "non_cat_df.describe()"
   ]
  },
  {
   "cell_type": "code",
   "execution_count": 27,
   "id": "9943bbed-0995-4df1-9c7f-4c93a9b07ec8",
   "metadata": {},
   "outputs": [
    {
     "data": {
      "text/plain": [
       "Quantity          4906.00\n",
       "Value             5012.82\n",
       "Customs_Code    543855.00\n",
       "Weight            2479.63\n",
       "dtype: float64"
      ]
     },
     "execution_count": 27,
     "metadata": {},
     "output_type": "execute_result"
    }
   ],
   "source": [
    "#median for non-categorical\n",
    "non_cat_df.median()"
   ]
  },
  {
   "cell_type": "code",
   "execution_count": 29,
   "id": "2f7c0856-4eaa-4bb3-a847-62430988b383",
   "metadata": {},
   "outputs": [
    {
     "data": {
      "text/html": [
       "<div>\n",
       "<style scoped>\n",
       "    .dataframe tbody tr th:only-of-type {\n",
       "        vertical-align: middle;\n",
       "    }\n",
       "\n",
       "    .dataframe tbody tr th {\n",
       "        vertical-align: top;\n",
       "    }\n",
       "\n",
       "    .dataframe thead th {\n",
       "        text-align: right;\n",
       "    }\n",
       "</style>\n",
       "<table border=\"1\" class=\"dataframe\">\n",
       "  <thead>\n",
       "    <tr style=\"text-align: right;\">\n",
       "      <th></th>\n",
       "      <th>Quantity</th>\n",
       "      <th>Value</th>\n",
       "      <th>Customs_Code</th>\n",
       "      <th>Weight</th>\n",
       "    </tr>\n",
       "  </thead>\n",
       "  <tbody>\n",
       "    <tr>\n",
       "      <th>0</th>\n",
       "      <td>3089</td>\n",
       "      <td>5790.7</td>\n",
       "      <td>321967.0</td>\n",
       "      <td>959.06</td>\n",
       "    </tr>\n",
       "    <tr>\n",
       "      <th>1</th>\n",
       "      <td>3664</td>\n",
       "      <td>NaN</td>\n",
       "      <td>523474.0</td>\n",
       "      <td>2975.07</td>\n",
       "    </tr>\n",
       "    <tr>\n",
       "      <th>2</th>\n",
       "      <td>5061</td>\n",
       "      <td>NaN</td>\n",
       "      <td>898007.0</td>\n",
       "      <td>3347.51</td>\n",
       "    </tr>\n",
       "    <tr>\n",
       "      <th>3</th>\n",
       "      <td>6462</td>\n",
       "      <td>NaN</td>\n",
       "      <td>NaN</td>\n",
       "      <td>4927.00</td>\n",
       "    </tr>\n",
       "    <tr>\n",
       "      <th>4</th>\n",
       "      <td>6495</td>\n",
       "      <td>NaN</td>\n",
       "      <td>NaN</td>\n",
       "      <td>NaN</td>\n",
       "    </tr>\n",
       "    <tr>\n",
       "      <th>5</th>\n",
       "      <td>7951</td>\n",
       "      <td>NaN</td>\n",
       "      <td>NaN</td>\n",
       "      <td>NaN</td>\n",
       "    </tr>\n",
       "    <tr>\n",
       "      <th>6</th>\n",
       "      <td>8679</td>\n",
       "      <td>NaN</td>\n",
       "      <td>NaN</td>\n",
       "      <td>NaN</td>\n",
       "    </tr>\n",
       "    <tr>\n",
       "      <th>7</th>\n",
       "      <td>9646</td>\n",
       "      <td>NaN</td>\n",
       "      <td>NaN</td>\n",
       "      <td>NaN</td>\n",
       "    </tr>\n",
       "  </tbody>\n",
       "</table>\n",
       "</div>"
      ],
      "text/plain": [
       "   Quantity   Value  Customs_Code   Weight\n",
       "0      3089  5790.7      321967.0   959.06\n",
       "1      3664     NaN      523474.0  2975.07\n",
       "2      5061     NaN      898007.0  3347.51\n",
       "3      6462     NaN           NaN  4927.00\n",
       "4      6495     NaN           NaN      NaN\n",
       "5      7951     NaN           NaN      NaN\n",
       "6      8679     NaN           NaN      NaN\n",
       "7      9646     NaN           NaN      NaN"
      ]
     },
     "execution_count": 29,
     "metadata": {},
     "output_type": "execute_result"
    }
   ],
   "source": [
    "#mode for non-categorical variables\n",
    "non_cat_df.mode()"
   ]
  },
  {
   "cell_type": "code",
   "execution_count": 31,
   "id": "60113f7e-384e-4a6b-867d-d5bc21f16662",
   "metadata": {},
   "outputs": [
    {
     "data": {
      "text/plain": [
       "Quantity          9986.00\n",
       "Value             9894.60\n",
       "Customs_Code    899368.00\n",
       "Weight            4996.93\n",
       "dtype: float64"
      ]
     },
     "execution_count": 31,
     "metadata": {},
     "output_type": "execute_result"
    }
   ],
   "source": [
    "#Measures of Dispersion\n",
    "#Range\n",
    "non_cat_df.max()-non_cat_df.min()"
   ]
  },
  {
   "cell_type": "markdown",
   "id": "d757fe1d-0889-40b7-8e2c-94a0515f952c",
   "metadata": {},
   "source": [
    "A Quantity of 9,986 units and a Value of $9,894.60, reflecting a significant volume of goods. The average value of the Customs Code is around 899,368. This could indicate a particular classification for customs procedures. Furthermore, the Weight indicates a significant cargo of about 4,996.93 units. These numbers suggest a strong transaction with a large volume and value, which may be significant for evaluating inventory control and business performance."
   ]
  },
  {
   "cell_type": "code",
   "execution_count": 34,
   "id": "e54731e4-c4ff-42c5-b9e3-aa2274a78730",
   "metadata": {},
   "outputs": [
    {
     "data": {
      "text/plain": [
       "Quantity        0.040181\n",
       "Value           0.022186\n",
       "Customs_Code    0.021586\n",
       "Weight          0.044580\n",
       "dtype: float64"
      ]
     },
     "execution_count": 34,
     "metadata": {},
     "output_type": "execute_result"
    }
   ],
   "source": [
    "#Skewness \n",
    "non_cat_df.skew()"
   ]
  },
  {
   "cell_type": "markdown",
   "id": "d391be78-8992-4053-a0c0-d1f81c1cc716",
   "metadata": {},
   "source": [
    "The distributions for Quantity (0.0402), Value (0.0222), Customs Code (0.0216), and Weight (0.0446) are close to symmetrical, with a slight positive skewness, according to the supplied skewness values. This implies that while the data generally do not show significant asymmetry, there might be a tendency for a few larger values to stretch the tail to the right. Many statistical studies benefit from this relatively balanced distribution since it shows that the data is not significantly biased in one way."
   ]
  },
  {
   "cell_type": "code",
   "execution_count": 37,
   "id": "2c43b8f5-8dba-4949-aedf-0e5af611a88a",
   "metadata": {},
   "outputs": [
    {
     "data": {
      "text/plain": [
       "Quantity       -1.183991\n",
       "Value          -1.221064\n",
       "Customs_Code   -1.210401\n",
       "Weight         -1.206317\n",
       "dtype: float64"
      ]
     },
     "execution_count": 37,
     "metadata": {},
     "output_type": "execute_result"
    }
   ],
   "source": [
    "#Kurtosis\n",
    "non_cat_df.kurt()"
   ]
  },
  {
   "cell_type": "markdown",
   "id": "7732f3fe-8f69-41bb-b72a-69ad399f6d18",
   "metadata": {},
   "source": [
    "Quantity (-1.184), Value (-1.221), Customs Code (-1.210), and Weight (-1.206) all have negative kurtosis values, indicating that their distributions are platykurtic. Compared to a normal distribution, this indicates that their tails are lighter and their peaks are flatter. This means that, compared to a normal distribution, the data points are more widely distributed and extreme values are less common. Evaluating the validity of statistical studies and models applied to these variables can be made easier by being aware of these features."
   ]
  },
  {
   "cell_type": "code",
   "execution_count": 39,
   "id": "f9a33804-bd3e-4d26-bc46-215bf02f5cea",
   "metadata": {},
   "outputs": [
    {
     "data": {
      "text/html": [
       "<div>\n",
       "<style scoped>\n",
       "    .dataframe tbody tr th:only-of-type {\n",
       "        vertical-align: middle;\n",
       "    }\n",
       "\n",
       "    .dataframe tbody tr th {\n",
       "        vertical-align: top;\n",
       "    }\n",
       "\n",
       "    .dataframe thead th {\n",
       "        text-align: right;\n",
       "    }\n",
       "</style>\n",
       "<table border=\"1\" class=\"dataframe\">\n",
       "  <thead>\n",
       "    <tr style=\"text-align: right;\">\n",
       "      <th></th>\n",
       "      <th>Quantity</th>\n",
       "      <th>Value</th>\n",
       "      <th>Customs_Code</th>\n",
       "      <th>Weight</th>\n",
       "    </tr>\n",
       "  </thead>\n",
       "  <tbody>\n",
       "    <tr>\n",
       "      <th>Quantity</th>\n",
       "      <td>1.000000</td>\n",
       "      <td>0.003417</td>\n",
       "      <td>-0.017677</td>\n",
       "      <td>-0.030232</td>\n",
       "    </tr>\n",
       "    <tr>\n",
       "      <th>Value</th>\n",
       "      <td>0.003417</td>\n",
       "      <td>1.000000</td>\n",
       "      <td>0.002000</td>\n",
       "      <td>-0.016178</td>\n",
       "    </tr>\n",
       "    <tr>\n",
       "      <th>Customs_Code</th>\n",
       "      <td>-0.017677</td>\n",
       "      <td>0.002000</td>\n",
       "      <td>1.000000</td>\n",
       "      <td>0.016651</td>\n",
       "    </tr>\n",
       "    <tr>\n",
       "      <th>Weight</th>\n",
       "      <td>-0.030232</td>\n",
       "      <td>-0.016178</td>\n",
       "      <td>0.016651</td>\n",
       "      <td>1.000000</td>\n",
       "    </tr>\n",
       "  </tbody>\n",
       "</table>\n",
       "</div>"
      ],
      "text/plain": [
       "              Quantity     Value  Customs_Code    Weight\n",
       "Quantity      1.000000  0.003417     -0.017677 -0.030232\n",
       "Value         0.003417  1.000000      0.002000 -0.016178\n",
       "Customs_Code -0.017677  0.002000      1.000000  0.016651\n",
       "Weight       -0.030232 -0.016178      0.016651  1.000000"
      ]
     },
     "execution_count": 39,
     "metadata": {},
     "output_type": "execute_result"
    }
   ],
   "source": [
    "#Correlation\n",
    "non_cat_df.corr()"
   ]
  },
  {
   "cell_type": "markdown",
   "id": "591d8f89-05ba-4b61-a7f3-95b6a746f1b7",
   "metadata": {},
   "source": [
    "Weak correlations between Quantity, Value, Customs Code, and Weight are revealed by the correlation matrix. While there is a little negative connection between Quantity and Weight (-0.0302) and Customs Code (-0.0177), there is a minor positive correlation between Quantity and Value (0.0034). Value likewise shows very little correlation with Weight (-0.0162) and Customs Code (0.002), however there is very little positive correlation (0.0167) between Customs Code and Weight. The variables may be less useful in statistical analyses and predictive modeling as a result of their generally low correlation values, which show that the variables are not very dependent on one another."
   ]
  },
  {
   "cell_type": "code",
   "execution_count": 41,
   "id": "bb1c9749-0d8f-4bb3-aca5-520dd67f97f9",
   "metadata": {},
   "outputs": [
    {
     "data": {
      "text/plain": [
       "58.414086732880854"
      ]
     },
     "execution_count": 41,
     "metadata": {},
     "output_type": "execute_result"
    }
   ],
   "source": [
    "#Composite Measure \n",
    "#Coefficient of Variation\n",
    "import statistics as stats\n",
    "cv = (stats.stdev(non_cat_df['Quantity']) / non_cat_df['Quantity'].mean()) * 100 \n",
    "cv"
   ]
  },
  {
   "cell_type": "markdown",
   "id": "12413d7e-fd0c-4b96-8feb-349dbe6ad2e0",
   "metadata": {},
   "source": [
    "For Quantity, the coefficient of variation (CV) is roughly 58.41%. Significant variability in the Quantity values in relation to the mean is shown by this high CV. This degree of dispersion indicates that transaction sizes are highly variable, which may be the result of various product categories or order sizes. Since this fluctuation draws attention to the inconsistent transaction quantities, it is crucial to comprehend for both efficient inventory management and financial planning."
   ]
  },
  {
   "cell_type": "code",
   "execution_count": 43,
   "id": "c6f3600f-54bc-4ba4-96c0-b88f69afed49",
   "metadata": {},
   "outputs": [
    {
     "data": {
      "text/plain": [
       "59.18080371138371"
      ]
     },
     "execution_count": 43,
     "metadata": {},
     "output_type": "execute_result"
    }
   ],
   "source": [
    "cv = (stats.stdev(non_cat_df['Weight']) / non_cat_df['Weight'].mean()) * 100 \n",
    "cv"
   ]
  },
  {
   "cell_type": "markdown",
   "id": "c59deb4d-2952-43a9-9fbe-0c0d37454fd1",
   "metadata": {},
   "source": [
    "Weight's coefficient of variation (CV) is roughly 59.18%. This high CV suggests that there is a significant variation in the weights of the shipments between transactions, as evidenced by the wide variation in weight relative to the mean. The need for attentive inventory and shipping strategy management is highlighted by the possibility that such unpredictability may have an influence on logistics planning and shipping costs. Comprehending this distribution is essential for enhancing functions and guaranteeing effective distribution of resources."
   ]
  },
  {
   "cell_type": "code",
   "execution_count": 45,
   "id": "0a26b208-bcd0-4d0f-aedf-ebcc61d3f7de",
   "metadata": {},
   "outputs": [
    {
     "data": {
      "text/plain": [
       "57.57339766518332"
      ]
     },
     "execution_count": 45,
     "metadata": {},
     "output_type": "execute_result"
    }
   ],
   "source": [
    "cv = (stats.stdev(non_cat_df['Value']) / non_cat_df['Value'].mean()) * 100 \n",
    "cv"
   ]
  },
  {
   "cell_type": "markdown",
   "id": "23d03246-91ea-491a-9c06-d3a4e6225b7d",
   "metadata": {},
   "source": [
    "Value's coefficient of variation (CV) is roughly 57.57%. This suggests that the transaction values exhibit a considerable degree of variability in comparison to the mean. A CV this high implies that transaction values are very variable, which could be the result of different product prices or order quantities. Comprehending this variability is crucial for pricing strategies and financial forecasts, as it draws attention to possible disparities that may impact budgeting and revenue management."
   ]
  },
  {
   "cell_type": "code",
   "execution_count": 47,
   "id": "2bd84e75-60a6-4e77-9677-da8d94ba7988",
   "metadata": {},
   "outputs": [],
   "source": [
    "import numpy as np\n",
    "import pandas as pd\n",
    "import scipy.stats as stats\n",
    "\n",
    "#Confidence Interval\n",
    "mean_value = non_cat_df['Value'].mean()\n",
    "std_dev = non_cat_df['Value'].std()\n",
    "n = len(non_cat_df['Value'])\n",
    "\n",
    "# Confidence level (95%)\n",
    "confidence_level = 0.95\n",
    "alpha = 1 - confidence_level\n",
    "\n",
    "# Calculate the critical value for the t-distribution\n",
    "critical_value = stats.t.ppf(1 - alpha/2, df=n-1)"
   ]
  },
  {
   "cell_type": "code",
   "execution_count": 49,
   "id": "c6be4254-f30b-476f-b8ec-4911bc33577a",
   "metadata": {},
   "outputs": [],
   "source": [
    "# Calculate the margin of error\n",
    "margin_of_error = critical_value * (std_dev / np.sqrt(n))"
   ]
  },
  {
   "cell_type": "code",
   "execution_count": 51,
   "id": "d952b6b1-2760-434d-8e30-23525d2fa6d9",
   "metadata": {},
   "outputs": [],
   "source": [
    "# Calculate confidence interval\n",
    "confidence_interval = (mean_value - margin_of_error, mean_value + margin_of_error)"
   ]
  },
  {
   "cell_type": "code",
   "execution_count": 53,
   "id": "cd6ec9e1-9cd1-4f49-b1c2-5f4e4db2828d",
   "metadata": {},
   "outputs": [
    {
     "name": "stdout",
     "output_type": "stream",
     "text": [
      "Mean: 5002.55\n",
      "Standard Deviation: 2880.14\n",
      "Confidence Interval (95%): (4876.282343498177, 5128.822803928108)\n"
     ]
    }
   ],
   "source": [
    "# Display results\n",
    "print(f\"Mean: {mean_value:.2f}\")\n",
    "print(f\"Standard Deviation: {std_dev:.2f}\")\n",
    "print(f\"Confidence Interval (95%): {confidence_interval}\")"
   ]
  },
  {
   "cell_type": "markdown",
   "id": "4177b0b3-2245-47f9-94bb-892408154acb",
   "metadata": {},
   "source": [
    "With a standard deviation of 2,880.14 and an average value of roughly 5002.55, the transactions show considerable variation from the average. The mean's 95% confidence interval falls between 4876.28 and 5,128.82. This interval indicates that there is a 95% confidence interval in which the population's true mean falls. The significant standard deviation is reflected in the comparatively broad interval, highlighting the variation in transaction values. Making wise financial decisions and comprehending possible revenue variations require this information."
   ]
  },
  {
   "cell_type": "code",
   "execution_count": 56,
   "id": "07758596-1381-4486-a7db-640deb53da6d",
   "metadata": {},
   "outputs": [
    {
     "name": "stdout",
     "output_type": "stream",
     "text": [
      "T-Statistic, p_value and df:  TtestResult(statistic=33.69937699204916, pvalue=1.4935568073031165e-197, df=2000)\n",
      "Signifiance difference between the means\n"
     ]
    }
   ],
   "source": [
    "#Inferential Statistics\n",
    "#Test of Mean {t}\n",
    "t_stats1 = stats.ttest_rel(non_cat_df['Quantity'], non_cat_df['Weight'])\n",
    "print('T-Statistic, p_value and df: ', t_stats1)\n",
    "\n",
    "significance_level = 0.05\n",
    "\n",
    "if t_stats1.pvalue < significance_level:\n",
    "    print('Signifiance difference between the means')\n",
    "else:\n",
    "    print('No Signifiance difference between the means')\n",
    "\n"
   ]
  },
  {
   "cell_type": "markdown",
   "id": "66e23041-2a0a-4471-9d8d-df779d4eb34a",
   "metadata": {},
   "source": [
    "The p-value of 1.4935568073031165e-197, in conjunction with the t-statistic of around 33.70, suggests a highly significant difference between the means of the two groups under comparison. The p-value, at 2,000 degrees of freedom (df), is significantly lower than any typical significance level (e.g., 0.05 or 0.01), indicating statistical significance of the difference. We may safely reject the null hypothesis in light of this compelling evidence, coming to the conclusion that there is a significant difference between the means of the two datasets. These kinds of findings are essential to comprehending the effects of various factors or therapies under investigation."
   ]
  },
  {
   "cell_type": "code",
   "execution_count": 59,
   "id": "0135ce8e-0f6a-4432-97a8-765f08a1b8b0",
   "metadata": {},
   "outputs": [
    {
     "name": "stdout",
     "output_type": "stream",
     "text": [
      "Variance of Quantity :  8375330.399892553\n",
      "Variance of Weight :  2154267.5011997814\n",
      "p_value for 2 tail:  2.22e-16\n",
      "The variances are significantly different\n"
     ]
    }
   ],
   "source": [
    "#Test of Variance {F}\n",
    "var_Quantity = np.var(non_cat_df['Quantity'], ddof = 1)\n",
    "var_Weight = np.var(non_cat_df['Weight'], ddof = 1)\n",
    "\n",
    "print('Variance of Quantity : ', var_Quantity)\n",
    "print('Variance of Weight : ', var_Weight)\n",
    "\n",
    "F = var_Quantity / var_Weight\n",
    "\n",
    "dof1 = len(non_cat_df['Quantity']) - 1\n",
    "dof2 = len(non_cat_df['Weight']) - 1\n",
    "\n",
    "p_value = 1 - stats.f.cdf(F, dof1, dof2) # cdf = cumulative distribution function\n",
    "\n",
    "p_value_2T = np.round(p_value * 2, 18)\n",
    "print(\"p_value for 2 tail: \", p_value_2T)\n",
    "\n",
    "significance_level = 0.05\n",
    "\n",
    "if (p_value_2T < significance_level):\n",
    "    print(\"The variances are significantly different\")\n",
    "\n",
    "else:\n",
    "    print(\"The variances are not significantly different\")"
   ]
  },
  {
   "cell_type": "markdown",
   "id": "a783d027-e4f7-4209-b0cc-b9a4564de83d",
   "metadata": {},
   "source": [
    "The variance for Weight is roughly 2,154,267.50, and the variance for Quantity is about 8,375,330.40. The variances show a highly significant difference, as indicated by the two-tailed p-value of 2.22e-16. As the p-value is significantly less than typical significance thresholds (e.g., 0.05), we can reject the null hypothesis of equal variances with confidence. According to this finding, there is a considerable difference in the unpredictability of Quantity compared to Weight. This could have major effects on analysis and decision-making related to inventory management and operational efficiency."
   ]
  },
  {
   "cell_type": "code",
   "execution_count": 62,
   "id": "e7d64161-a197-4b86-beff-c466bd9b2e74",
   "metadata": {
    "scrolled": true
   },
   "outputs": [
    {
     "name": "stdout",
     "output_type": "stream",
     "text": [
      "levene's test stats:  646.0502019268343\n",
      "p_value:  7.867411546715904e-255\n",
      "Significant difference between the variances\n"
     ]
    }
   ],
   "source": [
    "#levene Test\n",
    "stat, p_value = stats.levene(non_cat_df['Quantity'],non_cat_df['Value'],non_cat_df['Weight'], center = 'median')\n",
    "print(\"levene's test stats: \", stat)\n",
    "print(\"p_value: \", p_value)\n",
    "\n",
    "significance_level = 0.05\n",
    "\n",
    "if p_value < significance_level:\n",
    "    print('Significant difference between the variances')\n",
    "\n",
    "else:\n",
    "    print('No significant difference between the variances')"
   ]
  },
  {
   "cell_type": "markdown",
   "id": "99faa2e5-da47-4a81-abf2-e14bb6d82fb3",
   "metadata": {},
   "source": [
    "Levene's test statistic has a p-value of 7.867411546715904e-255 and is around 646.05. A highly significant difference between the variances of the two groups under comparison is indicated by this incredibly low p-value. As the p-value is significantly lower than typical significance thresholds (like 0.05), we can safely rule out the null hypothesis that the variances are identical. This outcome verifies that the groups' variability differs significantly, which is essential for selecting the right statistical techniques for additional investigation."
   ]
  },
  {
   "cell_type": "code",
   "execution_count": 65,
   "id": "2afce852-10ec-4902-a027-60d88f68f489",
   "metadata": {
    "scrolled": true
   },
   "outputs": [
    {
     "name": "stdout",
     "output_type": "stream",
     "text": [
      "Sample proporation:  0\n",
      "Sample size:  2001\n",
      "hypothesized proportion 100\n",
      "Z-stats:  (-2.752876973105865e-15+44.95789275769185j)\n",
      "p_value:  0.0\n",
      "hypothesized proportion is significantly different from the proportion quantity\n"
     ]
    }
   ],
   "source": [
    "#Test of Proportion {z}\n",
    "Pro_Weight = 0 # Sample proportion\n",
    "for i in range(len(non_cat_df['Weight'])):\n",
    "    n = non_cat_df['Weight'].iloc[i]\n",
    "    if (5000 <= n <= 4700):\n",
    "        Pro_Weight += 1\n",
    "    \n",
    "Size_Weight = len(non_cat_df['Weight'])\n",
    "\n",
    "print('Sample proporation: ', Pro_Weight)\n",
    "print('Sample size: ', Size_Weight)\n",
    "\n",
    "hypothesize_proportion = 100  # Hypothesized quantity proportion\n",
    "\n",
    "print('hypothesized proportion', hypothesize_proportion)\n",
    "\n",
    "standard_error = (hypothesize_proportion * (1 - hypothesize_proportion) / Size_Weight) ** 0.5\n",
    "\n",
    "z_stats = (Pro_Weight - hypothesize_proportion) / standard_error\n",
    "\n",
    "p_value = 2 * (1 - stats.norm.cdf(abs(z_stats)))\n",
    "\n",
    "print('Z-stats: ', z_stats)\n",
    "print('p_value: ', p_value)\n",
    "\n",
    "significance_level = 0.05\n",
    "\n",
    "if p_value < significance_level:\n",
    "    print('hypothesized proportion is significantly different from the proportion quantity')\n",
    "else:\n",
    "    print('hypothesized proportion is not significantly different from the proportion quantity')"
   ]
  },
  {
   "cell_type": "markdown",
   "id": "e50e98e6-bb86-443a-add8-75dd7290eca8",
   "metadata": {},
   "source": [
    "With a sample size of 2,001 and a predicted proportion of 100, the sample proportion is 0. In the context of proportions, the calculated Z-statistic, which is a complex number roughly equal to (-2.752876973105865e-15+44.95789275769185j), indicates a mathematical error because Z-statistics should be real numbers. The sample proportion and the hypothesized proportion differ significantly, as indicated by the p-value of 0.0. The null hypothesis is strongly rejected since the sample proportion of zero implies that none of the observed cases met the predicted proportion. This finding indicates a glaring disparity between the predicted and observed proportions, indicating the need for additional research into the underlying causes."
   ]
  },
  {
   "cell_type": "code",
   "execution_count": 68,
   "id": "34833c4e-8ec2-494c-a918-9d7617e17548",
   "metadata": {},
   "outputs": [
    {
     "name": "stdout",
     "output_type": "stream",
     "text": [
      "Shapiro-wilk Test for:  Quantity\n",
      "Test stats:  0.9556257762681055  and p-value:  3.287814857898082e-24\n",
      "Reject (sample does not appear to be normally distributed)\n",
      "\n",
      "\n",
      "Shapiro-wilk Test for:  Weight\n",
      "Test stats:  0.9526313996106658  and p-value:  5.977908673136602e-25\n",
      "Reject (sample does not appear to be normally distributed)\n",
      "\n",
      "\n",
      "Shapiro-wilk Test for:  Value\n",
      "Test stats:  0.9521992922760996  and p-value:  4.706011349066878e-25\n",
      "Reject (sample does not appear to be normally distributed)\n"
     ]
    }
   ],
   "source": [
    "#Test of Normality \n",
    "#Shapiro-Wilk\n",
    "def shapiro_test(sample, name):\n",
    "    stat, p_value = stats.shapiro(sample)\n",
    "    print(\"Shapiro-wilk Test for: \", name)\n",
    "    print(\"Test stats: \", stat, \" and p-value: \", p_value)\n",
    "\n",
    "    significance_level = 0.05\n",
    "    if p_value > significance_level:\n",
    "        print(\"Fail to reject (sample is consistent with normality)\")\n",
    "    else:\n",
    "        print(\"Reject (sample does not appear to be normally distributed)\")\n",
    "\n",
    "\n",
    "shapiro_test(non_cat_df['Quantity'], \"Quantity\")\n",
    "print(\"\\n\")\n",
    "shapiro_test(non_cat_df['Weight'], \"Weight\")\n",
    "print(\"\\n\")\n",
    "shapiro_test(non_cat_df['Value'], \"Value\")"
   ]
  },
  {
   "cell_type": "markdown",
   "id": "7329a819-3421-4c5c-b472-2408c9b0883b",
   "metadata": {},
   "source": [
    "According to the findings of the Shapiro-Wilk test, none of the samples seem to be regularly distributed for Value, Weight, or Quantity. The test statistic for Quantity has a p-value of 3.287814857898082e-24 and is roughly 0.956. The Weight statistic has a p-value of 5.977908673136602e-25 and a statistic of around 0.953. Finally, the value statistic has a p-value of 4.706011349066878e-25 and a statistic of around 0.952. The extraordinarily low p-values in every instance result in the rejection of the normalcy null hypothesis. This may have an impact on the future selection of statistical tests and analytic techniques since it implies that the distributions of these variables are either highly skewed or exhibit non-normal characteristics."
   ]
  },
  {
   "cell_type": "code",
   "execution_count": 71,
   "id": "b859e010-852a-4b20-bef4-a616421d988f",
   "metadata": {},
   "outputs": [
    {
     "name": "stdout",
     "output_type": "stream",
     "text": [
      "Quantity and Weight test stats:  0.48825587206396803 p-value:  1.1379143288855385e-216\n",
      "Weight and Value test stats:  0.5012493753123438 p-value:  6.483858355470816e-229\n",
      "Value and Quantity test stats:  0.020989505247376312 p-value:  0.7702933613731343\n",
      "\n",
      "\n",
      "Quantity and Weight are from different distribution (rejected)\n",
      "\n",
      "\n",
      "Weight and Value are from different distribution (rejected)\n",
      "\n",
      "\n",
      "Value and Quantity are from same distribution (fail to reject)\n"
     ]
    }
   ],
   "source": [
    "#Kolmogorov-Smirnov\n",
    "statQ_W, p_valueQ_W = stats.ks_2samp(non_cat_df['Quantity'], non_cat_df['Weight'])\n",
    "statW_V, p_valueW_V = stats.ks_2samp(non_cat_df['Weight'], non_cat_df['Value'])\n",
    "statV_Q, p_valueV_Q = stats.ks_2samp(non_cat_df['Value'], non_cat_df['Quantity'])\n",
    "\n",
    "print('Quantity and Weight test stats: ', statQ_W, 'p-value: ', p_valueQ_W)\n",
    "print('Weight and Value test stats: ', statW_V, 'p-value: ', p_valueW_V)\n",
    "print('Value and Quantity test stats: ', statV_Q, 'p-value: ', p_valueV_Q)\n",
    "\n",
    "significance_level = 0.05\n",
    "print('\\n')\n",
    "\n",
    "if p_valueQ_W > significance_level:\n",
    "    print(\"Quantity and Weight are from same distribution (fail to reject)\")\n",
    "else:\n",
    "    print(\"Quantity and Weight are from different distribution (rejected)\")\n",
    "\n",
    "print('\\n')\n",
    "\n",
    "if p_valueW_V > significance_level:\n",
    "    print(\"Weight and Value are from same distribution (fail to reject)\")\n",
    "else:\n",
    "    print(\"Weight and Value are from different distribution (rejected)\")\n",
    "\n",
    "print('\\n')\n",
    "\n",
    "if p_valueV_Q > significance_level:\n",
    "    print(\"Value and Quantity are from same distribution (fail to reject)\")\n",
    "else:\n",
    "    print(\"Value and Quantity are from different distribution (rejected)\")"
   ]
  },
  {
   "cell_type": "markdown",
   "id": "df3d0332-e239-49eb-9285-04c65233d9a0",
   "metadata": {},
   "source": [
    "With a test statistic of 0.488 and a p-value of 1.1379143288855385e-216, the study demonstrates that Quantity and Weight are from separate distributions, which leads to the rejection of the null hypothesis. Likewise, Weight and Value, with a p-value of 6.483858355470816e-229 and a test statistic of 0.501, likewise come from separate distributions. On the other hand, the Value and Quantity test produced a 0.021 statistic and a 0.770 p-value, suggesting that they are most likely drawn from the same distribution. These findings are crucial for directing additional research and comprehending the connections between these variables."
   ]
  },
  {
   "cell_type": "code",
   "execution_count": 74,
   "id": "3c71aa8e-14f8-4601-b20f-3e4bdf6503a4",
   "metadata": {},
   "outputs": [
    {
     "data": {
      "text/html": [
       "<div>\n",
       "<style scoped>\n",
       "    .dataframe tbody tr th:only-of-type {\n",
       "        vertical-align: middle;\n",
       "    }\n",
       "\n",
       "    .dataframe tbody tr th {\n",
       "        vertical-align: top;\n",
       "    }\n",
       "\n",
       "    .dataframe thead th {\n",
       "        text-align: right;\n",
       "    }\n",
       "</style>\n",
       "<table border=\"1\" class=\"dataframe\">\n",
       "  <thead>\n",
       "    <tr style=\"text-align: right;\">\n",
       "      <th></th>\n",
       "      <th>Import_Export</th>\n",
       "      <th>Category</th>\n",
       "      <th>Shipping_Method</th>\n",
       "      <th>Payment_Terms</th>\n",
       "      <th>Country</th>\n",
       "    </tr>\n",
       "  </thead>\n",
       "  <tbody>\n",
       "    <tr>\n",
       "      <th>7575</th>\n",
       "      <td>Export</td>\n",
       "      <td>Clothing</td>\n",
       "      <td>Land</td>\n",
       "      <td>Prepaid</td>\n",
       "      <td>Burkina Faso</td>\n",
       "    </tr>\n",
       "    <tr>\n",
       "      <th>7898</th>\n",
       "      <td>Import</td>\n",
       "      <td>Electronics</td>\n",
       "      <td>Sea</td>\n",
       "      <td>Prepaid</td>\n",
       "      <td>Isle of Man</td>\n",
       "    </tr>\n",
       "    <tr>\n",
       "      <th>11534</th>\n",
       "      <td>Export</td>\n",
       "      <td>Machinery</td>\n",
       "      <td>Air</td>\n",
       "      <td>Net 60</td>\n",
       "      <td>Argentina</td>\n",
       "    </tr>\n",
       "    <tr>\n",
       "      <th>10117</th>\n",
       "      <td>Export</td>\n",
       "      <td>Clothing</td>\n",
       "      <td>Land</td>\n",
       "      <td>Net 60</td>\n",
       "      <td>Armenia</td>\n",
       "    </tr>\n",
       "    <tr>\n",
       "      <th>8867</th>\n",
       "      <td>Export</td>\n",
       "      <td>Toys</td>\n",
       "      <td>Air</td>\n",
       "      <td>Prepaid</td>\n",
       "      <td>Barbados</td>\n",
       "    </tr>\n",
       "    <tr>\n",
       "      <th>...</th>\n",
       "      <td>...</td>\n",
       "      <td>...</td>\n",
       "      <td>...</td>\n",
       "      <td>...</td>\n",
       "      <td>...</td>\n",
       "    </tr>\n",
       "    <tr>\n",
       "      <th>2337</th>\n",
       "      <td>Export</td>\n",
       "      <td>Machinery</td>\n",
       "      <td>Land</td>\n",
       "      <td>Prepaid</td>\n",
       "      <td>Dominica</td>\n",
       "    </tr>\n",
       "    <tr>\n",
       "      <th>10733</th>\n",
       "      <td>Export</td>\n",
       "      <td>Furniture</td>\n",
       "      <td>Air</td>\n",
       "      <td>Cash on Delivery</td>\n",
       "      <td>Comoros</td>\n",
       "    </tr>\n",
       "    <tr>\n",
       "      <th>9781</th>\n",
       "      <td>Export</td>\n",
       "      <td>Clothing</td>\n",
       "      <td>Sea</td>\n",
       "      <td>Prepaid</td>\n",
       "      <td>Mongolia</td>\n",
       "    </tr>\n",
       "    <tr>\n",
       "      <th>10969</th>\n",
       "      <td>Export</td>\n",
       "      <td>Furniture</td>\n",
       "      <td>Air</td>\n",
       "      <td>Net 60</td>\n",
       "      <td>Philippines</td>\n",
       "    </tr>\n",
       "    <tr>\n",
       "      <th>7592</th>\n",
       "      <td>Import</td>\n",
       "      <td>Clothing</td>\n",
       "      <td>Sea</td>\n",
       "      <td>Cash on Delivery</td>\n",
       "      <td>Norfolk Island</td>\n",
       "    </tr>\n",
       "  </tbody>\n",
       "</table>\n",
       "<p>2001 rows × 5 columns</p>\n",
       "</div>"
      ],
      "text/plain": [
       "      Import_Export     Category Shipping_Method     Payment_Terms  \\\n",
       "7575         Export     Clothing            Land           Prepaid   \n",
       "7898         Import  Electronics             Sea           Prepaid   \n",
       "11534        Export    Machinery             Air            Net 60   \n",
       "10117        Export     Clothing            Land            Net 60   \n",
       "8867         Export         Toys             Air           Prepaid   \n",
       "...             ...          ...             ...               ...   \n",
       "2337         Export    Machinery            Land           Prepaid   \n",
       "10733        Export    Furniture             Air  Cash on Delivery   \n",
       "9781         Export     Clothing             Sea           Prepaid   \n",
       "10969        Export    Furniture             Air            Net 60   \n",
       "7592         Import     Clothing             Sea  Cash on Delivery   \n",
       "\n",
       "              Country  \n",
       "7575     Burkina Faso  \n",
       "7898      Isle of Man  \n",
       "11534       Argentina  \n",
       "10117         Armenia  \n",
       "8867         Barbados  \n",
       "...               ...  \n",
       "2337         Dominica  \n",
       "10733         Comoros  \n",
       "9781         Mongolia  \n",
       "10969     Philippines  \n",
       "7592   Norfolk Island  \n",
       "\n",
       "[2001 rows x 5 columns]"
      ]
     },
     "execution_count": 74,
     "metadata": {},
     "output_type": "execute_result"
    }
   ],
   "source": [
    "#  Subset and display the Categorical Variables.\n",
    "cat_df = my_sample[['Import_Export', 'Category', 'Shipping_Method', 'Payment_Terms', 'Country']]\n",
    "cat_df"
   ]
  },
  {
   "cell_type": "markdown",
   "id": "89378adc-2a40-487a-b82d-3e12e5de9843",
   "metadata": {},
   "source": [
    "For 2,001 transactions, the categorical information contains crucial details including Import/Export status, Category, Shipping Method, Payment Terms, and Country. The majority of transactions are exports, with clothing, machinery, and electronics being prominent categories. There are other shipping methods, but the most popular ones are land, air, and sea. These methods might affect delivery costs and timelines. A variety of alternatives, such as Prepaid, Net 60, and Cash on Delivery, are shown in the payment terms, suggesting flexibility in the financial arrangements. The distribution of countries reveals a varied international trading environment that spans from the Isle of Man to Burkina Faso. This data structure facilitates a range of analytics, including trend analysis in export categories, evaluation of the effects of shipping methods on delivery efficiency, and identification of country-specific preferences for payment terms."
   ]
  },
  {
   "cell_type": "code",
   "execution_count": 77,
   "id": "db43aea5-7d2e-4347-b018-4ebe78d92c2d",
   "metadata": {},
   "outputs": [
    {
     "data": {
      "text/html": [
       "<div>\n",
       "<style scoped>\n",
       "    .dataframe tbody tr th:only-of-type {\n",
       "        vertical-align: middle;\n",
       "    }\n",
       "\n",
       "    .dataframe tbody tr th {\n",
       "        vertical-align: top;\n",
       "    }\n",
       "\n",
       "    .dataframe thead th {\n",
       "        text-align: right;\n",
       "    }\n",
       "</style>\n",
       "<table border=\"1\" class=\"dataframe\">\n",
       "  <thead>\n",
       "    <tr style=\"text-align: right;\">\n",
       "      <th></th>\n",
       "      <th>Import_Export</th>\n",
       "      <th>Category</th>\n",
       "      <th>Shipping_Method</th>\n",
       "      <th>Payment_Terms</th>\n",
       "      <th>Country</th>\n",
       "    </tr>\n",
       "  </thead>\n",
       "  <tbody>\n",
       "    <tr>\n",
       "      <th>count</th>\n",
       "      <td>2001</td>\n",
       "      <td>2001</td>\n",
       "      <td>2001</td>\n",
       "      <td>2001</td>\n",
       "      <td>2001</td>\n",
       "    </tr>\n",
       "    <tr>\n",
       "      <th>unique</th>\n",
       "      <td>2</td>\n",
       "      <td>5</td>\n",
       "      <td>3</td>\n",
       "      <td>4</td>\n",
       "      <td>243</td>\n",
       "    </tr>\n",
       "    <tr>\n",
       "      <th>top</th>\n",
       "      <td>Import</td>\n",
       "      <td>Machinery</td>\n",
       "      <td>Land</td>\n",
       "      <td>Net 60</td>\n",
       "      <td>Uzbekistan</td>\n",
       "    </tr>\n",
       "    <tr>\n",
       "      <th>freq</th>\n",
       "      <td>1028</td>\n",
       "      <td>428</td>\n",
       "      <td>707</td>\n",
       "      <td>513</td>\n",
       "      <td>18</td>\n",
       "    </tr>\n",
       "  </tbody>\n",
       "</table>\n",
       "</div>"
      ],
      "text/plain": [
       "       Import_Export   Category Shipping_Method Payment_Terms     Country\n",
       "count           2001       2001            2001          2001        2001\n",
       "unique             2          5               3             4         243\n",
       "top           Import  Machinery            Land        Net 60  Uzbekistan\n",
       "freq            1028        428             707           513          18"
      ]
     },
     "execution_count": 77,
     "metadata": {},
     "output_type": "execute_result"
    }
   ],
   "source": [
    "#Descriptive Data for Categorical Variables\n",
    "cat_df.describe()"
   ]
  },
  {
   "cell_type": "code",
   "execution_count": 79,
   "id": "2c354e3d-208d-467c-a458-484b3f0a1e6e",
   "metadata": {},
   "outputs": [
    {
     "data": {
      "text/plain": [
       "2001"
      ]
     },
     "execution_count": 79,
     "metadata": {},
     "output_type": "execute_result"
    }
   ],
   "source": [
    "#Proportion\n",
    "# Calculate total\n",
    "total = len(cat_df['Shipping_Method'])\n",
    "total"
   ]
  },
  {
   "cell_type": "code",
   "execution_count": 81,
   "id": "596d3b4a-d9de-419a-989d-350147eaaf8c",
   "metadata": {},
   "outputs": [
    {
     "data": {
      "text/plain": [
       "Import_Export                Export\n",
       "Category                   Clothing\n",
       "Shipping_Method                 Air\n",
       "Payment_Terms      Cash on Delivery\n",
       "Country                 Afghanistan\n",
       "dtype: object"
      ]
     },
     "execution_count": 81,
     "metadata": {},
     "output_type": "execute_result"
    }
   ],
   "source": [
    "#Minimum\n",
    "cat_df.min()"
   ]
  },
  {
   "cell_type": "markdown",
   "id": "6a08db08-95a4-4627-9bd4-5a92e39a65ee",
   "metadata": {},
   "source": [
    "The data entry that is shown pertains to a transaction that is classified as an export of apparel from Afghanistan. \"Cash on Delivery\" is the payment term, and \"Air\" is the shipment method. This particular entry highlights the features of the larger dataset, which helps to understand market dynamics through a variety of import/export actions, classifications, and payment types. Such entries can be analyzed to find patterns in popular product categories, shipping methods, and preferred payment methods internationally."
   ]
  },
  {
   "cell_type": "code",
   "execution_count": 84,
   "id": "d2587840-bc68-49dc-8eb3-7800d3125712",
   "metadata": {},
   "outputs": [
    {
     "data": {
      "text/plain": [
       "Import_Export        Import\n",
       "Category               Toys\n",
       "Shipping_Method         Sea\n",
       "Payment_Terms       Prepaid\n",
       "Country            Zimbabwe\n",
       "dtype: object"
      ]
     },
     "execution_count": 84,
     "metadata": {},
     "output_type": "execute_result"
    }
   ],
   "source": [
    "#Maximum\n",
    "cat_df.max()"
   ]
  },
  {
   "cell_type": "markdown",
   "id": "ae14741d-c514-4688-b59d-e6cd04951d26",
   "metadata": {},
   "source": [
    "The data entry that has been provided describes a transaction that is classified as a toy import from Zimbabwe. It functions under \"Prepaid\" payment terms and ships using \"Sea\" as the shipping method. This entry demonstrates the variety of import/export actions, product types, and payment methods that are present in the dataset. By examining these entries, one can gain a better knowledge of the mechanics of international trade by identifying patterns in shipping preferences and popular goods in different nations."
   ]
  },
  {
   "cell_type": "code",
   "execution_count": 87,
   "id": "12017dcf-3f1f-4cac-bdc4-c44f098d492b",
   "metadata": {},
   "outputs": [
    {
     "data": {
      "text/html": [
       "<div>\n",
       "<style scoped>\n",
       "    .dataframe tbody tr th:only-of-type {\n",
       "        vertical-align: middle;\n",
       "    }\n",
       "\n",
       "    .dataframe tbody tr th {\n",
       "        vertical-align: top;\n",
       "    }\n",
       "\n",
       "    .dataframe thead th {\n",
       "        text-align: right;\n",
       "    }\n",
       "</style>\n",
       "<table border=\"1\" class=\"dataframe\">\n",
       "  <thead>\n",
       "    <tr style=\"text-align: right;\">\n",
       "      <th></th>\n",
       "      <th>Import_Export</th>\n",
       "      <th>Category</th>\n",
       "      <th>Shipping_Method</th>\n",
       "      <th>Payment_Terms</th>\n",
       "      <th>Country</th>\n",
       "    </tr>\n",
       "  </thead>\n",
       "  <tbody>\n",
       "    <tr>\n",
       "      <th>0</th>\n",
       "      <td>Import</td>\n",
       "      <td>Machinery</td>\n",
       "      <td>Land</td>\n",
       "      <td>Net 60</td>\n",
       "      <td>Congo</td>\n",
       "    </tr>\n",
       "    <tr>\n",
       "      <th>1</th>\n",
       "      <td>NaN</td>\n",
       "      <td>NaN</td>\n",
       "      <td>NaN</td>\n",
       "      <td>NaN</td>\n",
       "      <td>Uzbekistan</td>\n",
       "    </tr>\n",
       "  </tbody>\n",
       "</table>\n",
       "</div>"
      ],
      "text/plain": [
       "  Import_Export   Category Shipping_Method Payment_Terms     Country\n",
       "0        Import  Machinery            Land        Net 60       Congo\n",
       "1           NaN        NaN             NaN           NaN  Uzbekistan"
      ]
     },
     "execution_count": 87,
     "metadata": {},
     "output_type": "execute_result"
    }
   ],
   "source": [
    "#Mode\n",
    "cat_df.mode()"
   ]
  },
  {
   "cell_type": "markdown",
   "id": "733e1ed2-85ea-4f2d-a5f0-2b4c16eeb527",
   "metadata": {},
   "source": [
    "An import from the Democratic Republic of the Congo, with \"Land\" being the delivery mode and \"Net 60\" as the terms of payment. This illustrates a particular type of transaction and words that are frequently connected to imports of machinery."
   ]
  },
  {
   "cell_type": "code",
   "execution_count": 90,
   "id": "c147b171-ffb0-46bd-8b9a-8122e41adcfc",
   "metadata": {},
   "outputs": [
    {
     "data": {
      "text/html": [
       "<div>\n",
       "<style scoped>\n",
       "    .dataframe tbody tr th:only-of-type {\n",
       "        vertical-align: middle;\n",
       "    }\n",
       "\n",
       "    .dataframe tbody tr th {\n",
       "        vertical-align: top;\n",
       "    }\n",
       "\n",
       "    .dataframe thead th {\n",
       "        text-align: right;\n",
       "    }\n",
       "</style>\n",
       "<table border=\"1\" class=\"dataframe\">\n",
       "  <thead>\n",
       "    <tr style=\"text-align: right;\">\n",
       "      <th></th>\n",
       "      <th>Import_Export</th>\n",
       "      <th>Category</th>\n",
       "      <th>Shipping_Method</th>\n",
       "      <th>Payment_Terms</th>\n",
       "      <th>Country</th>\n",
       "    </tr>\n",
       "  </thead>\n",
       "  <tbody>\n",
       "    <tr>\n",
       "      <th>7575</th>\n",
       "      <td>487.0</td>\n",
       "      <td>203.5</td>\n",
       "      <td>1013.0</td>\n",
       "      <td>1750.0</td>\n",
       "      <td>312.0</td>\n",
       "    </tr>\n",
       "  </tbody>\n",
       "</table>\n",
       "</div>"
      ],
      "text/plain": [
       "      Import_Export  Category  Shipping_Method  Payment_Terms  Country\n",
       "7575          487.0     203.5           1013.0         1750.0    312.0"
      ]
     },
     "execution_count": 90,
     "metadata": {},
     "output_type": "execute_result"
    }
   ],
   "source": [
    "#Rank\n",
    "cat_df.rank().head(1)"
   ]
  },
  {
   "cell_type": "markdown",
   "id": "e0610e49-2134-4639-91d8-c1b98671166b",
   "metadata": {},
   "source": [
    "When the link between \"Country\" and \"Import_Export\" was examined using the Chi-squared test, the results showed a statistic of around 248.08 and a p-value of 0.38. We are unable to reject the null hypothesis since the p-value is significantly higher than the 0.05 threshold, suggesting that there is no meaningful relationship between the nation and the classification of transactions as imports or exports. This shows that trade patterns are often constant between nations, suggesting that variables peculiar to a country may not have as much of an impact on trade decisions as do broader market conditions. Consequently, rather of adjusting tactics based just on country of origin, corporations and policymakers may choose to concentrate on broad market trends. Additional research on the specific dynamics of each nation may potentially yield insightful information."
   ]
  }
 ],
 "metadata": {
  "kernelspec": {
   "display_name": "Python 3 (ipykernel)",
   "language": "python",
   "name": "python3"
  },
  "language_info": {
   "codemirror_mode": {
    "name": "ipython",
    "version": 3
   },
   "file_extension": ".py",
   "mimetype": "text/x-python",
   "name": "python",
   "nbconvert_exporter": "python",
   "pygments_lexer": "ipython3",
   "version": "3.12.4"
  }
 },
 "nbformat": 4,
 "nbformat_minor": 5
}
